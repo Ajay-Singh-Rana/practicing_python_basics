{
 "metadata": {
  "language_info": {
   "codemirror_mode": {
    "name": "ipython",
    "version": 3
   },
   "file_extension": ".py",
   "mimetype": "text/x-python",
   "name": "python",
   "nbconvert_exporter": "python",
   "pygments_lexer": "ipython3",
   "version": "3.6.9-final"
  },
  "orig_nbformat": 2,
  "kernelspec": {
   "name": "python36964bit71c59bbf134d474c937af990f776c890",
   "display_name": "Python 3.6.9 64-bit"
  }
 },
 "nbformat": 4,
 "nbformat_minor": 2,
 "cells": [
  {
   "cell_type": "markdown",
   "metadata": {},
   "source": [
    "#### h3avren\n",
    "#### k@mlesh"
   ]
  },
  {
   "cell_type": "markdown",
   "metadata": {},
   "source": [
    "# <center>The csv Module</center>"
   ]
  },
  {
   "cell_type": "code",
   "execution_count": 25,
   "metadata": {},
   "outputs": [],
   "source": [
    "# importing the csv module\n",
    "import csv"
   ]
  },
  {
   "cell_type": "code",
   "execution_count": 26,
   "metadata": {
    "tags": []
   },
   "outputs": [
    {
     "output_type": "stream",
     "name": "stdout",
     "text": "['Dialect', 'DictReader', 'DictWriter', 'Error', 'OrderedDict', 'QUOTE_ALL', 'QUOTE_MINIMAL', 'QUOTE_NONE', 'QUOTE_NONNUMERIC', 'Sniffer', 'StringIO', '_Dialect', '__all__', '__builtins__', '__cached__', '__doc__', '__file__', '__loader__', '__name__', '__package__', '__spec__', '__version__', 'excel', 'excel_tab', 'field_size_limit', 'get_dialect', 'list_dialects', 're', 'reader', 'register_dialect', 'unix_dialect', 'unregister_dialect', 'writer']\n"
    }
   ],
   "source": [
    "# printing all the functions and attributes of the csv module\n",
    "print(dir(csv))"
   ]
  },
  {
   "cell_type": "markdown",
   "metadata": {
    "tags": []
   },
   "source": [
    "We will be using the writer function first. So, to know how it works let us print the ```help()``` for that fucntion."
   ]
  },
  {
   "cell_type": "code",
   "execution_count": 27,
   "metadata": {
    "tags": []
   },
   "outputs": [
    {
     "output_type": "stream",
     "name": "stdout",
     "text": "Help on built-in function writer in module _csv:\n\nwriter(...)\n    csv_writer = csv.writer(fileobj [, dialect='excel']\n                                [optional keyword args])\n        for row in sequence:\n            csv_writer.writerow(row)\n    \n        [or]\n    \n        csv_writer = csv.writer(fileobj [, dialect='excel']\n                                [optional keyword args])\n        csv_writer.writerows(rows)\n    \n    The \"fileobj\" argument can be any object that supports the file API.\n\n"
    }
   ],
   "source": [
    "help(csv.writer)"
   ]
  },
  {
   "cell_type": "markdown",
   "metadata": {},
   "source": [
    "Now that we know we need to pass a file object to the ```writer()``` function and after that we can use ```writerow()``` method to write a row to the csv file,therefore, we will be opening a file first and then we will write the first 100 numbers and their squares to that file."
   ]
  },
  {
   "cell_type": "code",
   "execution_count": 28,
   "metadata": {},
   "outputs": [],
   "source": [
    "i = 1\n",
    "with open('squares.csv','w') as file:\n",
    "    writer = csv.writer(file)\n",
    "    writer.writerow(['Number','Square'])\n",
    "    for i in range(1,101,1):\n",
    "        writer.writerow([i,i**2])"
   ]
  },
  {
   "cell_type": "markdown",
   "metadata": {},
   "source": [
    "Now, that we have written a csv file,let's confirm its success by reading the same file with the ```reader()``` function. So, again before jumping to use the reader fucntion let's print its documnetation with the ```help()``` function.  "
   ]
  },
  {
   "cell_type": "code",
   "execution_count": 29,
   "metadata": {
    "tags": []
   },
   "outputs": [
    {
     "output_type": "stream",
     "name": "stdout",
     "text": "Help on built-in function reader in module _csv:\n\nreader(...)\n    csv_reader = reader(iterable [, dialect='excel']\n                            [optional keyword args])\n        for row in csv_reader:\n            process(row)\n    \n    The \"iterable\" argument can be any object that returns a line\n    of input for each iteration, such as a file object or a list.  The\n    optional \"dialect\" parameter is discussed below.  The function\n    also accepts optional keyword arguments which override settings\n    provided by the dialect.\n    \n    The returned object is an iterator.  Each iteration returns a row\n    of the CSV file (which can span multiple input lines).\n\n"
    }
   ],
   "source": [
    "help(csv.reader)"
   ]
  },
  {
   "cell_type": "markdown",
   "metadata": {},
   "source": [
    "Now that we know the reader returns an iterator to loop over. Let's read the csv file we just created."
   ]
  },
  {
   "cell_type": "code",
   "execution_count": 36,
   "metadata": {
    "tags": []
   },
   "outputs": [],
   "source": [
    "with open('squares.csv','r',newline='') as file:\n",
    "    reader = csv.reader(file)\n",
    "    listt = list(reader)\n",
    "    # header = next(reader)   # reading the headers of the file\n",
    "    # data = [line for line in reader]    # extracting the remaining data by iterating over it\n",
    "\n",
    "# print(header)  # printing the headers\n",
    "# print(data) # printing the data"
   ]
  },
  {
   "cell_type": "code",
   "execution_count": 38,
   "metadata": {},
   "outputs": [
    {
     "output_type": "execute_result",
     "data": {
      "text/plain": "101"
     },
     "metadata": {},
     "execution_count": 38
    }
   ],
   "source": [
    "len(listt)"
   ]
  },
  {
   "cell_type": "code",
   "execution_count": 39,
   "metadata": {},
   "outputs": [
    {
     "output_type": "execute_result",
     "data": {
      "text/plain": "2"
     },
     "metadata": {},
     "execution_count": 39
    }
   ],
   "source": [
    "len(listt[0])"
   ]
  },
  {
   "cell_type": "code",
   "execution_count": 47,
   "metadata": {},
   "outputs": [],
   "source": [
    "dataFrame = {listt[0][0]:[int(listt[x][0]) for x in range(1,len(listt),1)],listt[0][1]:[int(listt())]}"
   ]
  },
  {
   "cell_type": "code",
   "execution_count": 48,
   "metadata": {},
   "outputs": [
    {
     "output_type": "execute_result",
     "data": {
      "text/plain": "{'Number': [1,\n  2,\n  3,\n  4,\n  5,\n  6,\n  7,\n  8,\n  9,\n  10,\n  11,\n  12,\n  13,\n  14,\n  15,\n  16,\n  17,\n  18,\n  19,\n  20,\n  21,\n  22,\n  23,\n  24,\n  25,\n  26,\n  27,\n  28,\n  29,\n  30,\n  31,\n  32,\n  33,\n  34,\n  35,\n  36,\n  37,\n  38,\n  39,\n  40,\n  41,\n  42,\n  43,\n  44,\n  45,\n  46,\n  47,\n  48,\n  49,\n  50,\n  51,\n  52,\n  53,\n  54,\n  55,\n  56,\n  57,\n  58,\n  59,\n  60,\n  61,\n  62,\n  63,\n  64,\n  65,\n  66,\n  67,\n  68,\n  69,\n  70,\n  71,\n  72,\n  73,\n  74,\n  75,\n  76,\n  77,\n  78,\n  79,\n  80,\n  81,\n  82,\n  83,\n  84,\n  85,\n  86,\n  87,\n  88,\n  89,\n  90,\n  91,\n  92,\n  93,\n  94,\n  95,\n  96,\n  97,\n  98,\n  99,\n  100]}"
     },
     "metadata": {},
     "execution_count": 48
    }
   ],
   "source": [
    "dataFrame"
   ]
  },
  {
   "cell_type": "code",
   "execution_count": null,
   "metadata": {},
   "outputs": [],
   "source": []
  }
 ]
}