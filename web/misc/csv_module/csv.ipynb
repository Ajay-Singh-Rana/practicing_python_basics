{
 "metadata": {
  "language_info": {
   "codemirror_mode": {
    "name": "ipython",
    "version": 3
   },
   "file_extension": ".py",
   "mimetype": "text/x-python",
   "name": "python",
   "nbconvert_exporter": "python",
   "pygments_lexer": "ipython3",
   "version": "3.6.9-final"
  },
  "orig_nbformat": 2,
  "kernelspec": {
   "name": "python36964bit71c59bbf134d474c937af990f776c890",
   "display_name": "Python 3.6.9 64-bit"
  }
 },
 "nbformat": 4,
 "nbformat_minor": 2,
 "cells": [
  {
   "cell_type": "markdown",
   "metadata": {},
   "source": [
    "#### h3avren\n",
    "#### k@mlesh"
   ]
  },
  {
   "cell_type": "markdown",
   "metadata": {},
   "source": [
    "# <center>The csv Module</center>"
   ]
  },
  {
   "cell_type": "markdown",
   "metadata": {},
   "source": [
    "The ```csv``` module is used to parse and write the ```csv``` (```comman seperated values```) files. It provides various functions to read and write the csv files,out of which we will be using the ```DictWriter()``` and ```writer()```  functions to write the csv files and to read the csv files we will be using the ```DictReader()``` and the ```reader()``` functions.\n",
    "\n",
    "So, to start we will be importing the ```csv`` module."
   ]
  },
  {
   "cell_type": "code",
   "execution_count": 83,
   "metadata": {},
   "outputs": [],
   "source": [
    "# importing the csv module\n",
    "import csv"
   ]
  },
  {
   "cell_type": "code",
   "execution_count": 84,
   "metadata": {
    "tags": []
   },
   "outputs": [
    {
     "output_type": "stream",
     "name": "stdout",
     "text": "['Dialect', 'DictReader', 'DictWriter', 'Error', 'OrderedDict', 'QUOTE_ALL', 'QUOTE_MINIMAL', 'QUOTE_NONE', 'QUOTE_NONNUMERIC', 'Sniffer', 'StringIO', '_Dialect', '__all__', '__builtins__', '__cached__', '__doc__', '__file__', '__loader__', '__name__', '__package__', '__spec__', '__version__', 'excel', 'excel_tab', 'field_size_limit', 'get_dialect', 'list_dialects', 're', 'reader', 'register_dialect', 'unix_dialect', 'unregister_dialect', 'writer']\n"
    }
   ],
   "source": [
    "# printing all the functions and attributes of the csv module\n",
    "print(dir(csv))"
   ]
  },
  {
   "cell_type": "markdown",
   "metadata": {
    "tags": []
   },
   "source": [
    "We will be using the writer function first. So, to know how it works let us print the ```help()``` for that fucntion."
   ]
  },
  {
   "cell_type": "code",
   "execution_count": 85,
   "metadata": {
    "tags": []
   },
   "outputs": [
    {
     "output_type": "stream",
     "name": "stdout",
     "text": "Help on built-in function writer in module _csv:\n\nwriter(...)\n    csv_writer = csv.writer(fileobj [, dialect='excel']\n                                [optional keyword args])\n        for row in sequence:\n            csv_writer.writerow(row)\n    \n        [or]\n    \n        csv_writer = csv.writer(fileobj [, dialect='excel']\n                                [optional keyword args])\n        csv_writer.writerows(rows)\n    \n    The \"fileobj\" argument can be any object that supports the file API.\n\n"
    }
   ],
   "source": [
    "help(csv.writer)"
   ]
  },
  {
   "cell_type": "markdown",
   "metadata": {},
   "source": [
    "Now that we know we need to pass a file object to the ```writer()``` function and after that we can use ```writerow()``` method to write a row to the csv file,therefore, we will be opening a file first and then we will write the first 100 numbers and their squares to that file."
   ]
  },
  {
   "cell_type": "code",
   "execution_count": 94,
   "metadata": {},
   "outputs": [],
   "source": [
    "i = 1\n",
    "with open('squares.csv','w') as file:   # opening a csv file with the context manager\n",
    "    writer = csv.writer(file)   # creating a writer object\n",
    "    writer.writerow(['Number','Squares'])   # writing the headers as the first row of the csv file \n",
    "    for i in range(1,101,1):\n",
    "        writer.writerow([i,i**2])   # writing the numbers and squares to the file\n",
    "        # writer.writerows([list of data to be written]) # is used to write multiple rows of data to the csv "
   ]
  },
  {
   "cell_type": "markdown",
   "metadata": {},
   "source": [
    "Now, that we have written a csv file,let's confirm its success by reading the same file with the ```reader()``` function. So, again before jumping to use the reader function let's print its documnetation with the ```help()``` function.  "
   ]
  },
  {
   "cell_type": "code",
   "execution_count": 89,
   "metadata": {
    "tags": []
   },
   "outputs": [
    {
     "output_type": "stream",
     "name": "stdout",
     "text": "Help on built-in function reader in module _csv:\n\nreader(...)\n    csv_reader = reader(iterable [, dialect='excel']\n                            [optional keyword args])\n        for row in csv_reader:\n            process(row)\n    \n    The \"iterable\" argument can be any object that returns a line\n    of input for each iteration, such as a file object or a list.  The\n    optional \"dialect\" parameter is discussed below.  The function\n    also accepts optional keyword arguments which override settings\n    provided by the dialect.\n    \n    The returned object is an iterator.  Each iteration returns a row\n    of the CSV file (which can span multiple input lines).\n\n"
    }
   ],
   "source": [
    "help(csv.reader)"
   ]
  },
  {
   "cell_type": "markdown",
   "metadata": {},
   "source": [
    "Now that we know the reader returns an iterator to loop over. Let's read the csv file we just created."
   ]
  },
  {
   "cell_type": "code",
   "execution_count": 90,
   "metadata": {
    "tags": []
   },
   "outputs": [
    {
     "output_type": "stream",
     "name": "stdout",
     "text": "['Number', 'Squares']\n['1', '1']\n"
    }
   ],
   "source": [
    "with open('squares.csv','r',newline='') as file:    # opening a file in the read mode\n",
    "    reader = csv.reader(file)\n",
    "    header = next(reader)   # reading the headers of the file\n",
    "    data = [line for line in reader]    # extracting the remaining data by iterating over it\n",
    "\n",
    "print(header)  # printing the headers\n",
    "print(data[0]) # printing the first element of the data"
   ]
  },
  {
   "cell_type": "markdown",
   "metadata": {},
   "source": [
    "Everything that we get as output after reading the ```csv``` file is an ```string``` type. We can convert this data to the required format using the inbuilt functions like ```int()```, ```str()``` and ```float()```.\n",
    "Next, we'll be using the ```DictWriter()``` function so let's print ```help()``` on the same."
   ]
  },
  {
   "cell_type": "code",
   "execution_count": 91,
   "metadata": {
    "tags": []
   },
   "outputs": [
    {
     "output_type": "stream",
     "name": "stdout",
     "text": "Help on class DictWriter in module csv:\n\nclass DictWriter(builtins.object)\n |  Methods defined here:\n |  \n |  __init__(self, f, fieldnames, restval='', extrasaction='raise', dialect='excel', *args, **kwds)\n |      Initialize self.  See help(type(self)) for accurate signature.\n |  \n |  writeheader(self)\n |  \n |  writerow(self, rowdict)\n |  \n |  writerows(self, rowdicts)\n |  \n |  ----------------------------------------------------------------------\n |  Data descriptors defined here:\n |  \n |  __dict__\n |      dictionary for instance variables (if defined)\n |  \n |  __weakref__\n |      list of weak references to the object (if defined)\n\n"
    }
   ],
   "source": [
    "help(csv.DictWriter)"
   ]
  },
  {
   "cell_type": "code",
   "execution_count": 100,
   "metadata": {},
   "outputs": [],
   "source": [
    "with open('cubes.csv','w') as file:     \n",
    "    fieldnames = ['Numbers','Cubes']    \n",
    "    # fieldnames is an argument that contains the header for the csv file and is passed to the DictWriter method when creating a writer object\n",
    "    \n",
    "    writer = csv.DictWriter(file,fieldnames=fieldnames) # creating a writer object with the DictWriter function takes a fileobject and fieldnames argument\n",
    "    writer.writeheader()    # the writeheader() fucntion is used to write the fieldnames as the Header to the csv file\n",
    "\n",
    "    for i in range(1,101,1):\n",
    "        writer.writerow({'Numbers':i,'Cubes':i**3})    # the writeerow fucntion for a Dictwriter object takes a dictionary as an argument\n",
    "    # writer.writerows([dicts]) # this fucntion is used to write multiple rows at once"
   ]
  },
  {
   "cell_type": "markdown",
   "metadata": {},
   "source": [
    "Now we will be using the ```DictReader()``` to read the file."
   ]
  },
  {
   "cell_type": "code",
   "execution_count": 129,
   "metadata": {
    "tags": []
   },
   "outputs": [
    {
     "output_type": "stream",
     "name": "stdout",
     "text": "['Numbers', 'Cubes']\n1 , 1\n"
    }
   ],
   "source": [
    "with open('cubes.csv','r') as file: \n",
    "    reader = csv.DictReader(file)   # creating the reader object with the DictReader() function \n",
    "    print(reader.fieldnames)    # to access the headers of the csv file we use the fieldnames object\n",
    "    data = [row for row in reader] # to access the data within the reader iterator we use the keys or headers of the csv file\n",
    "    print(data[0][\"Numbers\"],\",\",data[0][\"Cubes\"])  # this prints the first line of the data\n",
    "    \n",
    "    # this prints the complete list of data\n",
    "    \"\"\"\n",
    "    for row in data:\n",
    "        print(row[\"Numbers\"],',',row[\"Cubes\"])\n",
    "\n",
    "    Alternatively :\n",
    "    for row in reader:\n",
    "        print(row[\"Numbers\"],\",\",row[\"Cubes\"])\n",
    "    \"\"\""
   ]
  },
  {
   "cell_type": "code",
   "execution_count": null,
   "metadata": {},
   "outputs": [],
   "source": []
  }
 ]
}