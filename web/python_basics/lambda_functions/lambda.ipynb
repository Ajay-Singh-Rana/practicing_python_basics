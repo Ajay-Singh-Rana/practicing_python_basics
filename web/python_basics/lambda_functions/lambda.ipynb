{
 "metadata": {
  "language_info": {
   "codemirror_mode": {
    "name": "ipython",
    "version": 3
   },
   "file_extension": ".py",
   "mimetype": "text/x-python",
   "name": "python",
   "nbconvert_exporter": "python",
   "pygments_lexer": "ipython3",
   "version": "3.6.9-final"
  },
  "orig_nbformat": 2,
  "kernelspec": {
   "name": "python36964bit71c59bbf134d474c937af990f776c890",
   "display_name": "Python 3.6.9 64-bit"
  }
 },
 "nbformat": 4,
 "nbformat_minor": 2,
 "cells": [
  {
   "cell_type": "markdown",
   "metadata": {},
   "source": [
    "#### @h3avren"
   ]
  },
  {
   "cell_type": "markdown",
   "metadata": {},
   "source": [
    "# <center>Lambda Functions</center>"
   ]
  },
  {
   "cell_type": "markdown",
   "metadata": {},
   "source": [
    "### Definition "
   ]
  },
  {
   "cell_type": "markdown",
   "metadata": {},
   "source": [
    "Lambda Functions are also called anonymous functions as these functions do not have a name.<br/>"
   ]
  },
  {
   "cell_type": "markdown",
   "metadata": {},
   "source": [
    "### Syntax"
   ]
  },
  {
   "cell_type": "markdown",
   "metadata": {},
   "source": [
    "The syntax for these functions is : <br/>\n",
    "\n",
    "<center><b>lambda</b> arguments_list : return_expression</center>"
   ]
  },
  {
   "cell_type": "markdown",
   "metadata": {},
   "source": [
    "### Creating a lambda function "
   ]
  },
  {
   "cell_type": "code",
   "execution_count": 4,
   "metadata": {
    "tags": []
   },
   "outputs": [
    {
     "output_type": "stream",
     "name": "stdout",
     "text": "10\n"
    }
   ],
   "source": [
    "# a lambda function starts with the keyword `lambda`\n",
    "# syntax for a lambda function is as follows\n",
    "# lamda arguments : return_expression\n",
    "lambda x : 3*x + 1  # here this anonymous function takes an argument namely x and returns the value 1 more than x multiplied by 3 (i.e. 3x + 1)\n",
    "# But we cannot use the above function as it doesn't have a name,to use it we need to give it a name by assigning it to a variable\n",
    "\n",
    "no_more_anonymous = lambda x : 3*x + 1\n",
    "# now to we can use the variable name as any normal python function \n",
    "print(no_more_anonymous(3))"
   ]
  },
  {
   "cell_type": "markdown",
   "metadata": {},
   "source": [
    "### Lambda function without arguments "
   ]
  },
  {
   "cell_type": "markdown",
   "metadata": {},
   "source": [
    "Like any other python function a lambda fucntion too can have a null arguments list i.e. a function without arguments."
   ]
  },
  {
   "cell_type": "code",
   "execution_count": 18,
   "metadata": {
    "tags": []
   },
   "outputs": [
    {
     "output_type": "stream",
     "name": "stdout",
     "text": "Hello World!\n"
    }
   ],
   "source": [
    "# example of lambda function without arguments\n",
    "f = lambda : print(\"Hello World!\")\n",
    "f() # calling the function f"
   ]
  },
  {
   "cell_type": "markdown",
   "metadata": {},
   "source": [
    "### Using a <b>lambda</b> function for impersonating a mathematical equation"
   ]
  },
  {
   "cell_type": "code",
   "execution_count": 16,
   "metadata": {
    "tags": []
   },
   "outputs": [
    {
     "output_type": "stream",
     "name": "stdout",
     "text": "1\n6\n17\n"
    }
   ],
   "source": [
    "# we can use lambda functions for generating quadratic equations\n",
    "# let's write a function that simulates the mathematical function of ax**2 + bx + c\n",
    "def quadratic_equation(a,b,c):  # this function takes the values of the coefficients of x as arguments\n",
    "    return lambda x : ((a * (x ** 2)) + (b * x) + c)\n",
    "\n",
    "f = quadratic_equation(3,2,1)   # returns a function object which impersonates the mathematical function of 3x**2 + 2x + 1\n",
    "\n",
    "# now let's pass the values of 1,2 and 3 to the function f\n",
    "print(f(0)) # returns 1\n",
    "print(f(1)) # returns 6\n",
    "print(f(2)) # returns 17\n",
    "\n",
    "# you can manually check the result values by using the values of 1,2 and 3 for the equation of 3x**2 + 2x + 1"
   ]
  },
  {
   "cell_type": "markdown",
   "metadata": {},
   "source": [
    "### That's it for this <b>bit</b>...See you in the next tutorial...Until then a <b><em>H3avren</em><b/> style Ta-Da..."
   ]
  }
 ]
}