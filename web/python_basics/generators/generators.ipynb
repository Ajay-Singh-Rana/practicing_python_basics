{
 "metadata": {
  "language_info": {
   "codemirror_mode": {
    "name": "ipython",
    "version": 3
   },
   "file_extension": ".py",
   "mimetype": "text/x-python",
   "name": "python",
   "nbconvert_exporter": "python",
   "pygments_lexer": "ipython3",
   "version": 3
  },
  "orig_nbformat": 2
 },
 "nbformat": 4,
 "nbformat_minor": 2,
 "cells": [
  {
   "cell_type": "markdown",
   "metadata": {},
   "source": [
    "#### h3avren"
   ]
  },
  {
   "cell_type": "markdown",
   "metadata": {},
   "source": [
    "# <center>Generator Functions</center>"
   ]
  },
  {
   "cell_type": "markdown",
   "metadata": {},
   "source": [
    "### Definition\n",
    "These are functions which implement <b>iterators</b>.These functions use a <b>yield</b> statement instead of a <b>return</b> statement.<br/>\n",
    "The yield statement tells the interpreter to store local variables and record the current position in the generator. This helps to resume from that stored location when the next call is made to the generator.\n"
   ]
  },
  {
   "cell_type": "markdown",
   "metadata": {},
   "source": [
    "### Syntax :\n",
    "def generator_name():<br/>\n",
    "&nbsp;&nbsp;&nbsp;&nbsp;&nbsp;&nbsp;&nbsp;&nbsp;yield x # expression to be evaluated when next() is called on a genrator"
   ]
  },
  {
   "cell_type": "markdown",
   "metadata": {},
   "source": [
    "### Example Function\n",
    "Let's make a generator that generates numbers from 1 to 9."
   ]
  },
  {
   "cell_type": "code",
   "execution_count": null,
   "metadata": {},
   "outputs": [],
   "source": [
    "i = 1\n",
    "def num_generator():\n",
    "    for i in range(i,10,1):\n",
    "        yield i\n",
    "\n",
    "print(num_generator()) "
   ]
  },
  {
   "cell_type": "markdown",
   "metadata": {},
   "source": [
    "### Benefits of using Generators \n",
    "1. These use low memory as these generate on demand values.\n",
    "2. As values are lazily generated we can use any value without having to wait for all the values.\n",
    "\n",
    "### There comes a disadvantage with generators and that is we can use the set of generated values only once."
   ]
  },
  {
   "cell_type": "markdown",
   "metadata": {},
   "source": [
    "## That's it for this bit...See you in the next tutorial...Until then a <em><b>H3avren</em></b> style Ta-Da..."
   ]
  }
 ]
}