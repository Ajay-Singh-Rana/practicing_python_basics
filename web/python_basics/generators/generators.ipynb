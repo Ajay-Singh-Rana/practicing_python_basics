{
 "metadata": {
  "language_info": {
   "codemirror_mode": {
    "name": "ipython",
    "version": 3
   },
   "file_extension": ".py",
   "mimetype": "text/x-python",
   "name": "python",
   "nbconvert_exporter": "python",
   "pygments_lexer": "ipython3",
   "version": "3.8.3-final"
  },
  "orig_nbformat": 2,
  "kernelspec": {
   "name": "python38364bitbaseconda16ee3201fd664d298f2a6cae656c2ccd",
   "display_name": "Python 3.8.3 64-bit ('base': conda)"
  }
 },
 "nbformat": 4,
 "nbformat_minor": 2,
 "cells": [
  {
   "cell_type": "markdown",
   "metadata": {},
   "source": [
    "#### h3avren"
   ]
  },
  {
   "cell_type": "markdown",
   "metadata": {},
   "source": [
    "# <center>Generator Functions</center>"
   ]
  },
  {
   "cell_type": "markdown",
   "metadata": {},
   "source": [
    "### Definition\n",
    "These are functions which implement <b>iterators</b>.These functions use a <b>yield</b> statement instead of a <b>return</b> statement.<br/>\n",
    "The yield statement tells the interpreter to store local variables and record the current position in the generator. This helps to resume from that stored location when the next call is made to the generator.\n"
   ]
  },
  {
   "cell_type": "markdown",
   "metadata": {},
   "source": [
    "### Syntax :\n",
    "def generator_name():<br/>\n",
    "&nbsp;&nbsp;&nbsp;&nbsp;&nbsp;&nbsp;&nbsp;&nbsp;yield x # expression to be evaluated when next() is called on a generator"
   ]
  },
  {
   "cell_type": "markdown",
   "metadata": {},
   "source": [
    "### Example Function\n",
    "Let's make a generator that generates numbers from 1 to 9."
   ]
  },
  {
   "cell_type": "code",
   "execution_count": 7,
   "metadata": {
    "tags": []
   },
   "outputs": [
    {
     "output_type": "stream",
     "name": "stdout",
     "text": "0\n1\n2\n3\n4\n5\n6\n7\n8\n9\n"
    }
   ],
   "source": [
    "def num_generator():\n",
    "    for j in range(10):\n",
    "        yield j\n",
    "\n",
    "a = num_generator()\n",
    "for i in a: # we can also iterate a generator using a for loop just like a list\n",
    "    print(i)"
   ]
  },
  {
   "cell_type": "markdown",
   "metadata": {},
   "source": [
    "### The yield from statement"
   ]
  },
  {
   "cell_type": "markdown",
   "metadata": {},
   "source": [
    "### Benefits of using Generators \n",
    "1. These use low memory as these generate on demand values.\n",
    "2. As values are lazily generated we can use any value without having to wait for all the values.\n",
    "\n",
    "### There comes a disadvantage with generators and that is we can use the set of generated values only once."
   ]
  },
  {
   "cell_type": "markdown",
   "metadata": {},
   "source": [
    "## That's it for this bit...See you in the next tutorial...Until then a <em><b>H3avren</em></b> style Ta-Da..."
   ]
  }
 ]
}