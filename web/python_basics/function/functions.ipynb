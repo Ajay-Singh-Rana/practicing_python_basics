{
 "metadata": {
  "language_info": {
   "codemirror_mode": {
    "name": "ipython",
    "version": 3
   },
   "file_extension": ".py",
   "mimetype": "text/x-python",
   "name": "python",
   "nbconvert_exporter": "python",
   "pygments_lexer": "ipython3",
   "version": "3.6.9-final"
  },
  "orig_nbformat": 2,
  "kernelspec": {
   "name": "python36964bit71c59bbf134d474c937af990f776c890",
   "display_name": "Python 3.6.9 64-bit"
  }
 },
 "nbformat": 4,
 "nbformat_minor": 2,
 "cells": [
  {
   "cell_type": "markdown",
   "metadata": {},
   "source": [
    "#### h3avren\n",
    "#### k@malesh"
   ]
  },
  {
   "cell_type": "markdown",
   "metadata": {},
   "source": [
    "# <center>Functions in Python</center>"
   ]
  },
  {
   "cell_type": "code",
   "execution_count": 4,
   "metadata": {},
   "outputs": [],
   "source": [
    "# a basic function which adds the numbers 5 and 4 and prints it to the console\n",
    "def add():\n",
    "    \"\"\"\n",
    "    def is the keyword used to define a python function and it is followed by a name for the function and parenthesis.\n",
    "    the following is the standard syntax for a function:\n",
    "    def fucntion_name():\n",
    "        function body\n",
    "    \"\"\" \n",
    "    print(5+4)  # prints the sum of a 5 and 4"
   ]
  },
  {
   "cell_type": "code",
   "execution_count": null,
   "metadata": {},
   "outputs": [],
   "source": [
    "# calling a function\n",
    "add() # calling a function is as simple as writing the function name with parenthesis"
   ]
  },
  {
   "cell_type": "code",
   "execution_count": 4,
   "metadata": {},
   "outputs": [],
   "source": [
    "# Let's see a python function with arguments\n",
    "\"\"\"\n",
    "Arguments are the data that we pass to the function for it to work on. Data to the function is passed as variables. \n",
    "\"\"\"\n",
    "def add(a,b):\n",
    "    return a+b  # the return statement is used to return a value to main programme  "
   ]
  },
  {
   "cell_type": "code",
   "execution_count": 5,
   "metadata": {
    "tags": []
   },
   "outputs": [
    {
     "output_type": "stream",
     "name": "stdout",
     "text": "9\n"
    }
   ],
   "source": [
    "# Calling the function\n",
    "\"\"\"\n",
    "To call a function with parameters we write it's name with parenthesis and pass the argument values.\n",
    "\"\"\"\n",
    "\n",
    "print(add(4,5))"
   ]
  },
  {
   "cell_type": "code",
   "execution_count": 6,
   "metadata": {
    "tags": []
   },
   "outputs": [
    {
     "output_type": "stream",
     "name": "stdout",
     "text": "8\n"
    }
   ],
   "source": [
    "# named arguments\n",
    "\"\"\"\n",
    "passing the value for the arguments by assigning values to the parameter names is known as named arguments. This enables us to pass values to the arguments in any order irrespective of their original positions in the function definition.\n",
    "\"\"\"\n",
    "\n",
    "print(add(b=5,a=3)) # here we passed the value of 'b' first followed by the value of 'a' whereas in the function the argument 'a' comes before 'b' but it still works cause we specified the names for these"
   ]
  },
  {
   "cell_type": "code",
   "execution_count": null,
   "metadata": {},
   "outputs": [],
   "source": [
    "# function with default values for its arguments\n",
    "def add(num1=1,num2=2,num3=3):\n",
    "    return (num1+num2+num3)"
   ]
  },
  {
   "cell_type": "code",
   "execution_count": null,
   "metadata": {},
   "outputs": [],
   "source": [
    "\n",
    "    \"\"\"\n",
    "    This is a docstring.This contains the information about the function.\n",
    "    And it also improves the readability of the code. And is also helpful for the documentation purpose\n",
    "    Here we take two argumetns a and b and then we will be adding these and returning the value.\n",
    "    \"\"\" "
   ]
  }
 ]
}