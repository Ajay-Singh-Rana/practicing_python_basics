{
 "metadata": {
  "language_info": {
   "codemirror_mode": {
    "name": "ipython",
    "version": 3
   },
   "file_extension": ".py",
   "mimetype": "text/x-python",
   "name": "python",
   "nbconvert_exporter": "python",
   "pygments_lexer": "ipython3",
   "version": "3.6.9-final"
  },
  "orig_nbformat": 2,
  "kernelspec": {
   "name": "python36964bit71c59bbf134d474c937af990f776c890",
   "display_name": "Python 3.6.9 64-bit"
  }
 },
 "nbformat": 4,
 "nbformat_minor": 2,
 "cells": [
  {
   "cell_type": "markdown",
   "metadata": {},
   "source": [
    "#### h3avren\n",
    "#### k@malesh"
   ]
  },
  {
   "cell_type": "markdown",
   "metadata": {},
   "source": [
    "# <center>Functions in Python</center>"
   ]
  },
  {
   "cell_type": "code",
   "execution_count": 3,
   "metadata": {},
   "outputs": [],
   "source": [
    "# a basic function which adds the numbers 5 and 4 and prints it to the console\n",
    "def add():\n",
    "    \"\"\"\n",
    "    def is the keyword used to define a python function and it is followed by a name for the function and parenthesis.\n",
    "    The following is the standard syntax for a function:\n",
    "    def function_name():\n",
    "        function body\n",
    "    \"\"\" \n",
    "    print(\"The sum of 5 and 4 is : \",5+4)  # prints the sum of 5 and 4"
   ]
  },
  {
   "cell_type": "code",
   "execution_count": 4,
   "metadata": {
    "tags": []
   },
   "outputs": [
    {
     "output_type": "stream",
     "name": "stdout",
     "text": "The sum of 5 and 4 is :  9\n"
    }
   ],
   "source": [
    "# calling a function\n",
    "add() # calling a function is as simple as writing the function name with parenthesis"
   ]
  },
  {
   "cell_type": "code",
   "execution_count": 3,
   "metadata": {},
   "outputs": [],
   "source": [
    "# Let's see a python function with arguments\n",
    "\"\"\"\n",
    "Arguments are the data that we pass to the function for it to work on. Data to the function is passed as variables. \n",
    "\"\"\"\n",
    "def add(a,b):\n",
    "    return a+b  # the return statement is used to return a value to main programme  "
   ]
  },
  {
   "cell_type": "code",
   "execution_count": 4,
   "metadata": {
    "tags": []
   },
   "outputs": [
    {
     "output_type": "stream",
     "name": "stdout",
     "text": "9\n"
    }
   ],
   "source": [
    "# Calling the function\n",
    "\"\"\"\n",
    "To call a function with parameters we write it's name with parenthesis and pass the argument values.\n",
    "\"\"\"\n",
    "\n",
    "print(add(4,5))"
   ]
  },
  {
   "cell_type": "code",
   "execution_count": 5,
   "metadata": {
    "tags": []
   },
   "outputs": [
    {
     "output_type": "stream",
     "name": "stdout",
     "text": "8\n"
    }
   ],
   "source": [
    "# named arguments\n",
    "\"\"\"\n",
    "passing the value for the arguments by assigning values to the parameter names is known as named arguments. This enables us to pass values to the arguments in any order irrespective of their original positions in the function definition.\n",
    "\"\"\"\n",
    "\n",
    "print(add(b=5,a=3)) # here we passed the value of 'b' first followed by the value of 'a' whereas in the function the argument 'a' comes before 'b' but it still works cause we specified the names for these"
   ]
  },
  {
   "cell_type": "code",
   "execution_count": 11,
   "metadata": {
    "tags": []
   },
   "outputs": [
    {
     "output_type": "stream",
     "name": "stdout",
     "text": "Method one : Without Arguments =  6\nMethod two : With three arguments =  15\nMethod three : With two arguments =  12\nMethod four : With one argument =  14\nMethod five : With named arguments =  12\n"
    }
   ],
   "source": [
    "# function with default values for its arguments\n",
    "def add(num1=1,num2=2,num3=3):  \n",
    "    # the last argument should be the one which is made default otherwise making an argument default before the last non-default argument might lead to errors\n",
    "    return (num1+num2+num3)\n",
    "\n",
    "# calling a function with default arguments\n",
    "print(\"Method one : Without Arguments = \",add())  # picks up default values for all the arguments\n",
    "print('Method two : With three arguments = ',add(4,5,6))   # assigns the passed values to the arguments\n",
    "print('Method three : With two arguments = ',add(5,4)) # picks up the default value for the argument num3\n",
    "print('Method four : With one argument = ',add(9)) # picks up the default values for num2 and num3\n",
    "print('Method five : With named arguments = ',add(num1=2,num3=8))    # picks up default value for the arguments missing"
   ]
  },
  {
   "cell_type": "code",
   "execution_count": 14,
   "metadata": {
    "tags": []
   },
   "outputs": [
    {
     "output_type": "stream",
     "name": "stdout",
     "text": "L.sort(key=None, reverse=False) -> None -- stable sort *IN PLACE*\n"
    }
   ],
   "source": [
    "# Now that we have discussed all the ways to declare a function and to call it. Let's look at a function docstring.\n",
    "\"\"\"\n",
    "a function docstring is a simple pythone docstring which is treated as a comment but is helpful to make the code readable and to document.\n",
    "The documentation part is important as it helps others know about the function by explaining the parameters and the result of the function by either accessing the doctring by using the __doc__ variable or by using the help function.\n",
    "\"\"\"\n",
    "\n",
    "# the following is the standard way of doing so."
   ]
  },
  {
   "cell_type": "code",
   "execution_count": null,
   "metadata": {},
   "outputs": [],
   "source": []
  }
 ]
}