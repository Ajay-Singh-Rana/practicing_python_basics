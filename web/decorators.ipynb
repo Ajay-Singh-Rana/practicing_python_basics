{
 "cells": [
  {
   "cell_type": "markdown",
   "metadata": {},
   "source": [
    "##### <a href=\"https:/www.github.com/Ajay-Singh-Rana\">h3avren@py</a>"
   ]
  },
  {
   "cell_type": "markdown",
   "metadata": {},
   "source": [
    "# <center> Function Decorators </center>\n"
   ]
  },
  {
   "cell_type": "markdown",
   "metadata": {},
   "source": [
    "## What are Higher-Order Functions?\n",
    "\n",
    "A higher order function is a persistent scope which makes the variable \n",
    "be accessible even after the code execution has moved past that block.<br/>\n",
    "A higher order function is also called a ```closure```."
   ]
  },
  {
   "cell_type": "code",
   "execution_count": 9,
   "metadata": {},
   "outputs": [
    {
     "output_type": "stream",
     "name": "stdout",
     "text": "Hi!\n"
    }
   ],
   "source": [
    "def outerScope():\n",
    "    greeting = \"Hi!\"\n",
    "    def innerScope():\n",
    "        print(greeting)\n",
    "    return innerScope  # copy of the function object\n",
    "\n",
    "innerCopy = outerScope()\n",
    "\n",
    "innerCopy() "
   ]
  },
  {
   "cell_type": "markdown",
   "metadata": {},
   "source": [
    "The function defined within the outer function gains access to all the variables available to the function's local scope.\n",
    "## What are Decorators?\n",
    "```Decorators``` are wrappers to existing funcitons,built using the concept of higher-order functions (closure). \n",
    " "
   ]
  },
  {
   "cell_type": "code",
   "execution_count": 12,
   "metadata": {},
   "outputs": [
    {
     "output_type": "stream",
     "name": "stdout",
     "text": ":-: Hello H3avren! :-:\n"
    }
   ],
   "source": [
    "def sayHello(name):\n",
    "    return \"Hello {}!\".format(name)\n",
    "\n",
    "def decorate(function_name):\n",
    "    def wrapper(name):\n",
    "        return \":-: {} :-:\".format(function_name(name))\n",
    "    return wrapper\n",
    "\n",
    "wrapped_function = decorate(sayHello)\n",
    "print(wrapped_function(\"H3avren\"))"
   ]
  },
  {
   "cell_type": "markdown",
   "metadata": {},
   "source": [
    "## Decorators Syntax\n",
    "```@``` is used as the symbol for decorators in Python.\n"
   ]
  },
  {
   "cell_type": "code",
   "execution_count": 17,
   "metadata": {},
   "outputs": [
    {
     "output_type": "execute_result",
     "data": {
      "text/plain": "':-: Hi H3avren! :-:'"
     },
     "metadata": {},
     "execution_count": 17
    }
   ],
   "source": [
    "def decorate(function_name):\n",
    "    def wrapper(name):\n",
    "        return \":-: {} :-:\".format(function_name(name))\n",
    "    return wrapper\n",
    "\n",
    "@decorate\n",
    "def sayHello(name):\n",
    "    return \"Hi {}!\".format(name)\n",
    "\n",
    "sayHello(\"H3avren\")"
   ]
  }
 ],
 "metadata": {
  "language_info": {
   "codemirror_mode": {
    "name": "ipython",
    "version": 3
   },
   "file_extension": ".py",
   "mimetype": "text/x-python",
   "name": "python",
   "nbconvert_exporter": "python",
   "pygments_lexer": "ipython3",
   "version": "3.6.9-final"
  },
  "orig_nbformat": 2,
  "kernelspec": {
   "name": "python36964bit71c59bbf134d474c937af990f776c890",
   "display_name": "Python 3.6.9 64-bit"
  }
 },
 "nbformat": 4,
 "nbformat_minor": 2
}